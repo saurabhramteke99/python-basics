{
 "cells": [
  {
   "cell_type": "code",
   "execution_count": null,
   "metadata": {},
   "outputs": [
    {
     "name": "stdout",
     "output_type": "stream",
     "text": [
      "Hi\n"
     ]
    }
   ],
   "source": [
    "# Agenda for today: 02nd March 2025\n",
    "# IDEs for Python (Visual Studio Code, Google Colab)\n",
    "# Introduction to Python\n",
    "# Variables and Data Types\n",
    "# Operators\n",
    "# Pre-defined keywords\n",
    "# Comments"
   ]
  },
  {
   "cell_type": "code",
   "execution_count": 5,
   "metadata": {},
   "outputs": [
    {
     "name": "stdout",
     "output_type": "stream",
     "text": [
      "Hello PW Skills Folks!\n",
      "Welcome to Python Programming!\n",
      "We are going to learn everything from Python basics till Machine Learning\n",
      "After ML, your batch witll split into two groups: Data Analytics and Generatuve AI\n",
      "Data Analytics group will learn about Data Science, Data Analysis, Data Visualization\n",
      "Generative AI group will learn about Deep Learning, Neural Networks, Reinforcement Learning\n"
     ]
    }
   ],
   "source": [
    "print(\"Hello PW Skills Folks!\")\n",
    "print(\"Welcome to Python Programming!\")\n",
    "print(\"We are going to learn everything from Python basics till Machine Learning\")\n",
    "print(\"After ML, your batch witll split into two groups: Data Analytics and Generatuve AI\")\n",
    "print(\"Data Analytics group will learn about Data Science, Data Analysis, Data Visualization\")\n",
    "print(\"Generative AI group will learn about Deep Learning, Neural Networks, Reinforcement Learning\")"
   ]
  },
  {
   "cell_type": "code",
   "execution_count": 8,
   "metadata": {},
   "outputs": [
    {
     "name": "stdout",
     "output_type": "stream",
     "text": [
      "Hello PW Skills Folks!\n",
      "Welcome to Python Programming!\n",
      "We are going to learn everything from Python basics till Machine Learning\n",
      "After ML, your batch witll split into two groups: Data Analytics and Generatuve AI\n",
      "Data Analytics group will learn about Data Science, Data Analysis, Data Visualization\n",
      "Generative AI group will learn about Deep Learning, Neural Networks, Reinforcement Learning\n"
     ]
    }
   ],
   "source": [
    "# We can use double quotes or single quotes to print strings\n",
    "print('Hello PW Skills Folks!')\n",
    "print('Welcome to Python Programming!')\n",
    "print('We are going to learn everything from Python basics till Machine Learning')\n",
    "print('After ML, your batch witll split into two groups: Data Analytics and Generatuve AI')\n",
    "print('Data Analytics group will learn about Data Science, Data Analysis, Data Visualization')\n",
    "print('Generative AI group will learn about Deep Learning, Neural Networks, Reinforcement Learning')"
   ]
  },
  {
   "cell_type": "code",
   "execution_count": 10,
   "metadata": {},
   "outputs": [
    {
     "name": "stdout",
     "output_type": "stream",
     "text": [
      "I love Mc Donald's burger\n",
      "I love Mc Donald\"s burger\n"
     ]
    }
   ],
   "source": [
    "# When will be there a need to use double quotes and single quotes together?\n",
    "print(\"I love Mc Donald's burger\") # Single quote inside double quotes\n",
    "print('I love Mc Donald\"s burger') # Double quote inside single quotes\n",
    "\n",
    "# print('I love Mc Donald's burger') # This will give an error\n",
    "# print(\"I love Mc Donald\"s burger\") # This will give an error "
   ]
  },
  {
   "cell_type": "code",
   "execution_count": 12,
   "metadata": {},
   "outputs": [],
   "source": [
    "# What are comments?\n",
    "# Comments are the lines in the code that are not executed by the interpreter\n",
    "# Comments are used to explain the code\n",
    "# Comments are used to make the code more readable\n",
    "# Comments are used to make the code more understandable\n",
    "# Comments are used to make the code more maintainable\n",
    "# Comments are used to make the code more debuggable\n",
    "\n",
    "# In Python, we use # to write comments"
   ]
  },
  {
   "cell_type": "code",
   "execution_count": 13,
   "metadata": {},
   "outputs": [],
   "source": [
    "# Multiple line comment can be acieved by selecting the lines and pressing \"Ctrl + /\"\"\n",
    "# Python is a popular programming language. It was created by Guido van Rossum, and released in 1991.\n",
    "\n",
    "# It is used for:\n",
    "\n",
    "# web development (server-side),\n",
    "# software development,\n",
    "# mathematics,\n",
    "# system scripting.\n",
    "# What can Python do?\n",
    "# Python can be used on a server to create web applications.\n",
    "# Python can be used alongside software to create workflows.\n",
    "# Python can connect to database systems. It can also read and modify files.\n",
    "# Python can be used to handle big data and perform complex mathematics.\n",
    "# Python can be used for rapid prototyping, or for production-ready software development.\n",
    "# Why Python?\n",
    "# Python works on different platforms (Windows, Mac, Linux, Raspberry Pi, etc).\n",
    "# Python has a simple syntax similar to the English language.\n",
    "# Python has syntax that allows developers to write programs with fewer lines than some other programming languages.\n",
    "# Python runs on an interpreter system, meaning that code can be executed as soon as it is written. This means that prototyping can be very quick.\n",
    "# Python can be treated in a procedural way, an object-oriented way or a functional way."
   ]
  },
  {
   "cell_type": "code",
   "execution_count": 14,
   "metadata": {},
   "outputs": [
    {
     "data": {
      "text/plain": [
       "'Python is a popular programming language. It was created by Guido van Rossum, and released in 1991.\\n\\nIt is used for:\\n\\nweb development (server-side),\\nsoftware development,\\nmathematics,\\nsystem scripting.\\nWhat can Python do?\\nPython can be used on a server to create web applications.\\nPython can be used alongside software to create workflows.\\nPython can connect to database systems. It can also read and modify files.\\nPython can be used to handle big data and perform complex mathematics.\\nPython can be used for rapid prototyping, or for production-ready software development.\\nWhy Python?\\nPython works on different platforms (Windows, Mac, Linux, Raspberry Pi, etc).\\nPython has a simple syntax similar to the English language.\\nPython has syntax that allows developers to write programs with fewer lines than some other programming languages.\\nPython runs on an interpreter system, meaning that code can be executed as soon as it is written. This means that prototyping can be very quick.\\nPython can be treated in a procedural way, an object-oriented way or a functional way.'"
      ]
     },
     "execution_count": 14,
     "metadata": {},
     "output_type": "execute_result"
    }
   ],
   "source": [
    "# Another way to comment multiple lines at nones is to use triple quotes\n",
    "\n",
    "\"\"\"Python is a popular programming language. It was created by Guido van Rossum, and released in 1991.\n",
    "\n",
    "It is used for:\n",
    "\n",
    "web development (server-side),\n",
    "software development,\n",
    "mathematics,\n",
    "system scripting.\n",
    "What can Python do?\n",
    "Python can be used on a server to create web applications.\n",
    "Python can be used alongside software to create workflows.\n",
    "Python can connect to database systems. It can also read and modify files.\n",
    "Python can be used to handle big data and perform complex mathematics.\n",
    "Python can be used for rapid prototyping, or for production-ready software development.\n",
    "Why Python?\n",
    "Python works on different platforms (Windows, Mac, Linux, Raspberry Pi, etc).\n",
    "Python has a simple syntax similar to the English language.\n",
    "Python has syntax that allows developers to write programs with fewer lines than some other programming languages.\n",
    "Python runs on an interpreter system, meaning that code can be executed as soon as it is written. This means that prototyping can be very quick.\n",
    "Python can be treated in a procedural way, an object-oriented way or a functional way.\"\"\""
   ]
  },
  {
   "cell_type": "code",
   "execution_count": 15,
   "metadata": {},
   "outputs": [
    {
     "data": {
      "text/plain": [
       "'Python is a popular programming language. It was created by Guido van Rossum, and released in 1991.\\n\\nIt is used for:\\n\\nweb development (server-side),\\nsoftware development,\\nmathematics,\\nsystem scripting.\\nWhat can Python do?\\nPython can be used on a server to create web applications.\\nPython can be used alongside software to create workflows.\\nPython can connect to database systems. It can also read and modify files.\\nPython can be used to handle big data and perform complex mathematics.\\nPython can be used for rapid prototyping, or for production-ready software development.\\nWhy Python?\\nPython works on different platforms (Windows, Mac, Linux, Raspberry Pi, etc).\\nPython has a simple syntax similar to the English language.\\nPython has syntax that allows developers to write programs with fewer lines than some other programming languages.\\nPython runs on an interpreter system, meaning that code can be executed as soon as it is written. This means that prototyping can be very quick.\\nPython can be treated in a procedural way, an object-oriented way or a functional way.'"
      ]
     },
     "execution_count": 15,
     "metadata": {},
     "output_type": "execute_result"
    }
   ],
   "source": [
    "'''Python is a popular programming language. It was created by Guido van Rossum, and released in 1991.\n",
    "\n",
    "It is used for:\n",
    "\n",
    "web development (server-side),\n",
    "software development,\n",
    "mathematics,\n",
    "system scripting.\n",
    "What can Python do?\n",
    "Python can be used on a server to create web applications.\n",
    "Python can be used alongside software to create workflows.\n",
    "Python can connect to database systems. It can also read and modify files.\n",
    "Python can be used to handle big data and perform complex mathematics.\n",
    "Python can be used for rapid prototyping, or for production-ready software development.\n",
    "Why Python?\n",
    "Python works on different platforms (Windows, Mac, Linux, Raspberry Pi, etc).\n",
    "Python has a simple syntax similar to the English language.\n",
    "Python has syntax that allows developers to write programs with fewer lines than some other programming languages.\n",
    "Python runs on an interpreter system, meaning that code can be executed as soon as it is written. This means that prototyping can be very quick.\n",
    "Python can be treated in a procedural way, an object-oriented way or a functional way.'''"
   ]
  },
  {
   "cell_type": "code",
   "execution_count": 16,
   "metadata": {},
   "outputs": [],
   "source": [
    "# Introduction to Python\n",
    "\n",
    "# Python is a general-purpose programming language i.e. it can be used for developing any kind of application\n",
    "# Python is an interpreted language i.e. it is executed line by line\n",
    "# Python is a high-level language i.e. it is closer to human language\n",
    "# Python is an open-source language i.e. it is free to use\n",
    "# Python is a dynamically-typed language i.e. we don't have to mention the data type of the variable\n",
    "# Python is a case-sensitive language i.e. variable names are case-sensitive\n",
    "# Python is a beginner-friendly language i.e. it is easy to learn\n",
    "# Python is a versatile language i.e. it can be used for web development, software development, data science, machine learning, artificial intelligence, etc.\n",
    "# Python is a cross-platform language i.e. it can run on multiple platforms like Windows, Mac, Linux, etc.\n",
    "\n",
    "\n",
    "# Who invented Python?\n",
    "# Python was created by Guido van Rossum in 1991\n",
    "# Python is named after the British comedy television show Monty Python's Flying Circus\n",
    "# Python is not named after the snake.\n",
    "# Because the director of the show  was \"Monty Python's Flying Circus\" and Guido van Rossum liked the show very much, \n",
    "# he named the language Python"
   ]
  },
  {
   "cell_type": "code",
   "execution_count": 17,
   "metadata": {},
   "outputs": [
    {
     "name": "stdout",
     "output_type": "stream",
     "text": [
      "Guido van Rossum is the creator of Python\n",
      "Python is named after the British comedy television show Monty Python's Flying Circus\n",
      "Python is not named after the snake.\n",
      "Because the director of the show  was 'Monty Python's Flying Circus' and Guido van Rossum liked the show very much, he named the language Python\n"
     ]
    }
   ],
   "source": [
    "# print() Syntax:\n",
    "# print() is a pre-defined function in Python\n",
    "# print() is used to display the output on the screen\n",
    "# print() can take multiple arguments\n",
    "print(\"Guido van Rossum is the creator of Python\")\n",
    "print(\"Python is named after the British comedy television show Monty Python's Flying Circus\")\n",
    "print(\"Python is not named after the snake.\")\n",
    "print(\"Because the director of the show  was 'Monty Python's Flying Circus' and Guido van Rossum liked the show very much, he named the language Python\")"
   ]
  },
  {
   "cell_type": "code",
   "execution_count": 19,
   "metadata": {},
   "outputs": [
    {
     "name": "stdout",
     "output_type": "stream",
     "text": [
      "<class 'str'>\n",
      "<class 'int'>\n",
      "<class 'float'>\n",
      "<class 'bool'>\n",
      "<class 'bool'>\n"
     ]
    }
   ],
   "source": [
    "# type() Syntax:\n",
    "# type() is a pre-defined function in Python\n",
    "# It will return the data type of the variable\n",
    "\n",
    "print(type(\"PW SKills\")) # <class 'str'>\n",
    "print(type(25)) # <class 'int'>\n",
    "print(type(25.5)) # <class 'float'>\n",
    "print(type(True)) # <class 'bool'>\n",
    "print(type(False)) # <class 'bool'>"
   ]
  },
  {
   "cell_type": "code",
   "execution_count": null,
   "metadata": {},
   "outputs": [],
   "source": [
    "# Program to perform addition of two numbers\n",
    "\n",
    "# a, b, c are called as variables\n",
    "# 25, 26 are called as constants\n",
    "# + is called as operator\n",
    "# = is called as assignment operator\n",
    "# a+b is called as expression\n",
    "# a+b is called as addition operation\n",
    "# c is called as result\n",
    "\n",
    "a=25\n",
    "b = 26\n",
    "c = a+b"
   ]
  },
  {
   "cell_type": "code",
   "execution_count": 24,
   "metadata": {},
   "outputs": [
    {
     "name": "stdout",
     "output_type": "stream",
     "text": [
      "c\n",
      "Hi Tanya, How are you?\n"
     ]
    }
   ],
   "source": [
    "print(\"c\")\n",
    "print(\"Hi Tanya, How are you?\")"
   ]
  },
  {
   "cell_type": "code",
   "execution_count": 25,
   "metadata": {},
   "outputs": [
    {
     "name": "stdout",
     "output_type": "stream",
     "text": [
      "25\n",
      "26\n",
      "51\n"
     ]
    }
   ],
   "source": [
    "print(a)\n",
    "print(b)\n",
    "print(c)"
   ]
  },
  {
   "cell_type": "code",
   "execution_count": 26,
   "metadata": {},
   "outputs": [
    {
     "ename": "NameError",
     "evalue": "name 'f' is not defined",
     "output_type": "error",
     "traceback": [
      "\u001b[0;31m---------------------------------------------------------------------------\u001b[0m",
      "\u001b[0;31mNameError\u001b[0m                                 Traceback (most recent call last)",
      "Cell \u001b[0;32mIn[26], line 1\u001b[0m\n\u001b[0;32m----> 1\u001b[0m \u001b[38;5;28mprint\u001b[39m(f)\n",
      "\u001b[0;31mNameError\u001b[0m: name 'f' is not defined"
     ]
    }
   ],
   "source": [
    "print(f)"
   ]
  },
  {
   "cell_type": "code",
   "execution_count": 27,
   "metadata": {},
   "outputs": [
    {
     "name": "stdout",
     "output_type": "stream",
     "text": [
      "15\n"
     ]
    }
   ],
   "source": [
    "x = 5\n",
    "y = 10\n",
    "print(x+y)"
   ]
  },
  {
   "cell_type": "code",
   "execution_count": 28,
   "metadata": {},
   "outputs": [],
   "source": [
    "# Datatypes:\n",
    "\n",
    "# 1. int - Integer eg: 25, 26, 27, 0, -1, -2, -3, 435\n",
    "# 2. float - Floating point number eg: 25.5, 26.5, 27.5, 0.0, -1.0, -2.0, -3.0, 435.0\n",
    "# 3. str - String eg: \"PW Skills\", \"Python\", \"Data Science\", \"Machine Learning\", \"42\", \"432.3412\"\n",
    "# 4. bool - Boolean eg: True, False"
   ]
  },
  {
   "cell_type": "code",
   "execution_count": null,
   "metadata": {},
   "outputs": [
    {
     "data": {
      "text/plain": [
       "str"
      ]
     },
     "execution_count": 31,
     "metadata": {},
     "output_type": "execute_result"
    }
   ],
   "source": [
    "type(\"Darshan\")"
   ]
  },
  {
   "cell_type": "code",
   "execution_count": 32,
   "metadata": {},
   "outputs": [
    {
     "name": "stdout",
     "output_type": "stream",
     "text": [
      "15.124\n"
     ]
    }
   ],
   "source": [
    "x = 5\n",
    "y = 10.124\n",
    "print(x+y)"
   ]
  },
  {
   "cell_type": "code",
   "execution_count": 34,
   "metadata": {},
   "outputs": [
    {
     "name": "stdout",
     "output_type": "stream",
     "text": [
      "11\n",
      "7\n",
      "18\n",
      "4.5\n",
      "4\n",
      "1\n",
      "81\n"
     ]
    }
   ],
   "source": [
    "# Operators:\n",
    "\n",
    "# 1. Arithmetic Operators\n",
    "# + - Addition eg: 9+2\n",
    "# - - Subtraction eg: 9-2\n",
    "# * - Multiplication eg: 9*2\n",
    "# / - Division eg: 9/2\n",
    "# // - Floor Division eg: 9//2. this will return the quotient\n",
    "# % - Modulus eg: 9%2 this will return the remainder\n",
    "# ** - Exponent eg: 9**2 this will return the power\n",
    "\n",
    "print(9+2) # 11\n",
    "print(9-2) # 7\n",
    "print(9*2) # 18\n",
    "print(9/2) # 4.5\n",
    "print(9//2) # 4\n",
    "print(9%2) # 1\n",
    "print(9**2) # 81"
   ]
  },
  {
   "cell_type": "code",
   "execution_count": 35,
   "metadata": {},
   "outputs": [
    {
     "name": "stdout",
     "output_type": "stream",
     "text": [
      "True\n",
      "False\n",
      "True\n",
      "True\n",
      "False\n"
     ]
    }
   ],
   "source": [
    "# 2. Comparison Operators\n",
    "\n",
    "# > - Greater than eg: 9>2\n",
    "# < - Less than eg: 9<2\n",
    "# >= - Greater than or equal to eg: 9>=2\n",
    "# <= - Less than or equal to eg: 9<=2\n",
    "# == - Equal to eg: 9==2\n",
    "# != - Not equal to eg: 9!=2\n",
    "\n",
    "no1 = 9\n",
    "no2 = 2\n",
    "print(no1>no2) # 9>2 -> True\n",
    "print(no1<no2) # 9<2 -> False\n",
    "print(no1>=no2) # 9>=2 -> True\n",
    "print(400<=400) # True\n",
    "print(9==2) # False"
   ]
  },
  {
   "cell_type": "code",
   "execution_count": 41,
   "metadata": {},
   "outputs": [
    {
     "name": "stdout",
     "output_type": "stream",
     "text": [
      "False\n",
      "False\n",
      "True\n",
      "False\n",
      "False\n"
     ]
    }
   ],
   "source": [
    "# Real time examples of Comparison Operators\n",
    "\n",
    "# Example 1\n",
    "# Data validation in Financial Applications\n",
    "yesterday_closing_price = 100\n",
    "today_opening_price = 101\n",
    "# Compare the yesterday's closing price with today's opening price\n",
    "print(yesterday_closing_price>today_opening_price) # False\n",
    "\n",
    "# Example 2\n",
    "# Inventory Management System\n",
    "current_stock = 100\n",
    "minimum_required_stock = 50\n",
    "# A store manager wants to check if the current stock is less than the minimum required stock\n",
    "print(current_stock<minimum_required_stock) # False\n",
    "\n",
    "# Example 3\n",
    "employee_salary = 50000\n",
    "average_salary = 60000\n",
    "# HR wants to check if the employee salary is less than the average salary\n",
    "print(employee_salary<average_salary) # True\n",
    "\n",
    "# Example 4\n",
    "# A student wants to check if he scored more than the passing marks\n",
    "student_marks = 35\n",
    "passing_marks = 40\n",
    "print(student_marks>passing_marks) # False\n",
    "\n",
    "# Example 5\n",
    "room_temperature = 25\n",
    "AC_temperature = 20\n",
    "# Check if the room temperature is less than the AC temperature\n",
    "print(room_temperature<AC_temperature) # False"
   ]
  },
  {
   "cell_type": "code",
   "execution_count": null,
   "metadata": {},
   "outputs": [],
   "source": [
    "# Rules for writing variable names\n",
    "# 1. Variable names should start with an alphabet or an underscore\n",
    "# 2. Variable names should not start with a number\n",
    "# 3. Variable names should not contain any special characters except underscore\n",
    "# 4. Variable names are case-sensitive\n",
    "# 5. Variable names should not be a pre-defined keyword"
   ]
  },
  {
   "cell_type": "code",
   "execution_count": 47,
   "metadata": {},
   "outputs": [
    {
     "name": "stdout",
     "output_type": "stream",
     "text": [
      "False\n",
      "True\n",
      "True\n",
      "False\n",
      "True\n"
     ]
    }
   ],
   "source": [
    "# 3. Logical Operators\n",
    "# and - Logical AND eg: True and True -> True, True and False -> False, False and True -> False, False and False -> False\n",
    "# or - Logical OR eg: True or True -> True, True or False -> True, False or True -> True, False or False -> False\n",
    "# not - Logical NOT eg: not True -> False, not False ->\n",
    "# https://blogger.googleusercontent.com/img/b/R29vZ2xl/AVvXsEgS5-hYaqzi-oBlCgiaJOTtk4IsvNVrz8-tb4SeLY3AYyZs5Dbb-zOnjylK_Noynp0nN-CTMEahjpqvPuv5w0kMY4wSQDTcH5fXY77PGWMkux5IM73YQNVJzExJSZ7lqzyHv1-YhCT3xt71/s1600/LogicalOperators.png\n",
    "\n",
    "\n",
    "# Example 1\n",
    "# A student wants to check if he scored more than the passing marks and more than the average marks\n",
    "student_marks = 35\n",
    "passing_marks = 40\n",
    "average_marks = 60\n",
    "print(student_marks>passing_marks and student_marks>average_marks) # 35>40 and 35>60 -> False and False -> False\n",
    "\n",
    "# Example 2\n",
    "# Check if a person qualifies for a loan based on age and salary\n",
    "age = 25\n",
    "salary = 50000\n",
    "min_age = 18\n",
    "min_salary = 30000\n",
    "print(age>min_age and salary>min_salary) # 25>18 and 50000>30000 -> True and True -> True\n",
    "\n",
    "# Example 3\n",
    "# Exployees get overtime if they work more than 8 hours and it is a weekend\n",
    "hours_worked = 10\n",
    "is_weekend = True\n",
    "print(hours_worked>8 and is_weekend==True) # 10>8 and True==True -> True and True -> True\n",
    "\n",
    "print(not(True)) # False\n",
    "print(not(False)) # True"
   ]
  },
  {
   "cell_type": "code",
   "execution_count": 46,
   "metadata": {},
   "outputs": [
    {
     "name": "stdout",
     "output_type": "stream",
     "text": [
      "10\n",
      "20\n",
      "10\n",
      "20\n"
     ]
    }
   ],
   "source": [
    "# 4. Assignment Operators\n",
    "# = - Assignment Operator eg: a = 10\n",
    "# += - Increment Operator eg: a+=10 -> a = a+10\n",
    "# -= - Decrement Operator eg: a-=10 -> a = a-10\n",
    "# *= - Multiplication Operator eg: a*=10 -> a = a*10\n",
    "# /= - Division Operator eg: a/=10 -> a = a/10\n",
    "# //= - Floor Division Operator eg: a//=10 -> a = a//10\n",
    "# %= - Modulus Operator eg: a%=10 -> a = a%10\n",
    "# **= - Exponent Operator eg: a**=10 -> a = a**10\n",
    "\n",
    "a = 10\n",
    "print(a) # 10\n",
    "print(a+10) # 20\n",
    "print(a) # 10\n",
    "\n",
    "a = a+10 # a += 10\n",
    "print(a) # 20"
   ]
  },
  {
   "cell_type": "code",
   "execution_count": 50,
   "metadata": {},
   "outputs": [
    {
     "name": "stdout",
     "output_type": "stream",
     "text": [
      "True\n",
      "False\n",
      "True\n",
      "False\n",
      "True\n"
     ]
    }
   ],
   "source": [
    "# 5. Membership Operators\n",
    "# in - Membership Operator eg: \"Python\" in \"Python Programming\"\n",
    "# not in - Membership Operator eg: \"Java\" not in \"Python Programming\"\n",
    "\n",
    "print(\"Python\" in \"Python Programming\") # True\n",
    "print(\"Java\" in \"Python Programming\") # False\n",
    "print(\"D\" in \"Darshan\") # True\n",
    "print(\"d\" in \"Darshan\") # False\n",
    "\n",
    "# Real-time example of Membership Operators\n",
    "# Example 1\n",
    "valid_currencies = \"USD INR EUR GBP JPY\"\n",
    "currency = \"INR\"\n",
    "\n",
    "# Membership Check\n",
    "is_valid_currency = currency in valid_currencies\n",
    "print(is_valid_currency) # True"
   ]
  },
  {
   "cell_type": "markdown",
   "metadata": {},
   "source": [
    "# Home Work"
   ]
  },
  {
   "cell_type": "markdown",
   "metadata": {},
   "source": [
    "### **Task 1: String Operations for Business Applications**  \n",
    "#### **Objective**: Perform industry-relevant string operations.  \n",
    "\n",
    "#### **Tasks**:\n",
    "1. Extract **a customer's first name** from a full name using slicing.  \n",
    "2. Verify if a **given keyword exists** in a product description.  \n",
    "3. Convert a **user’s email address** to lowercase for uniformity.  \n",
    "4. Replace **a sensitive word** in a financial statement with `\"****\"`.  \n",
    "5. Find if a **tracking ID** contains the prefix `\"TRK\"`.  \n",
    "\n",
    "#### **Assume Data**:\n",
    "- Full Name: `\"Alice Johnson\"`  \n",
    "- Product Description: `\"This smartphone features a high-resolution display.\"`  \n",
    "- Email: `\"John.Doe@Company.com\"`  \n",
    "- Sensitive Text: `\"Your password is 123456\"`  \n",
    "- Tracking ID: `\"TRK987654\"`  \n",
    "\n",
    "---\n",
    "\n",
    "### **Task 2: Arithmetic and Assignment Operators in Finance**  \n",
    "#### **Objective**: Perform arithmetic operations for real-world calculations.  \n",
    "\n",
    "#### **Tasks**:\n",
    "1. Calculate **total salary** after adding a bonus to an employee’s base salary.  \n",
    "2. Compute the **total price** of an order, given unit price and quantity.  \n",
    "3. Increase a **bank balance** by adding interest.  \n",
    "4. Find the **remaining loan amount** after a partial repayment.  \n",
    "5. Compute the **total bill** by applying a discount to an initial amount.  \n",
    "\n",
    "#### **Assume Data**:\n",
    "- Base Salary: `50000`, Bonus: `5000`  \n",
    "- Unit Price: `250`, Quantity: `4`  \n",
    "- Bank Balance: `10000`, Interest: `500`  \n",
    "- Loan Amount: `75000`, Repayment: `5000`  \n",
    "- Initial Bill: `2000`, Discount: `200`  \n",
    "\n",
    "---\n",
    "\n",
    "### **Task 3: Comparison Operators in Business Applications**  \n",
    "#### **Objective**: Compare values to validate business conditions.  \n",
    "\n",
    "#### **Tasks**:\n",
    "1. Compare **today's stock price** with yesterday’s to check if it increased.  \n",
    "2. Verify if an **employee's salary** is greater than the company’s average.  \n",
    "3. Check if a **customer’s age** qualifies for a senior citizen discount.  \n",
    "4. Determine if a **product’s weight** is within acceptable limits.  \n",
    "5. Check if a **student's exam score** meets the passing requirement.  \n",
    "\n",
    "#### **Assume Data**:\n",
    "- Yesterday’s Stock Price: `150.75`, Today’s Stock Price: `155.20`  \n",
    "- Employee Salary: `60000`, Average Salary: `55000`  \n",
    "- Customer Age: `65`, Discount Eligibility Age: `60`  \n",
    "- Product Weight: `505`, Acceptable Range: `490-510`  \n",
    "- Exam Score: `75`, Passing Marks: `40`  \n",
    "\n",
    "---\n",
    "\n",
    "### **Task 4: Logical Operators in Business Use Cases**  \n",
    "#### **Objective**: Combine multiple conditions using logical operators.  \n",
    "\n",
    "#### **Tasks**:\n",
    "1. Verify if a **loan applicant meets both age and salary requirements**.  \n",
    "2. Determine if a **warehouse needs restocking** based on low stock or high demand.  \n",
    "3. Check if an **employee qualifies for overtime pay** (weekend and extra hours).  \n",
    "4. Confirm if a **transaction is fraudulent** based on large amount or flagged account.  \n",
    "5. Validate if a **patient requires emergency attention** based on vitals.  \n",
    "\n",
    "#### **Assume Data**:\n",
    "- Loan Applicant: Age `30`, Salary `60000`, Required Age `25`, Required Salary `50000`  \n",
    "- Stock: `15`, Minimum `20`, High Demand: `True`  \n",
    "- Hours Worked: `10`, Is Weekend: `True`  \n",
    "- Transaction Amount: `5000`, Average Spend: `1200`  \n",
    "- Patient Vitals: Heart Rate: `110`, Oxygen Level: `89`, Normal HR: `<100`, Normal O2: `>90`  \n",
    "\n",
    "---\n",
    "\n",
    "### **Task 5: Membership Operators in Business Applications**  \n",
    "#### **Objective**: Check for membership in predefined datasets.  \n",
    "\n",
    "#### **Tasks**:\n",
    "1. Check if a **currency code** is valid for a banking system.  \n",
    "2. Validate if a **user role** exists in a system’s predefined access roles.  \n",
    "3. Verify if a **flight’s airport code** is recognized in an airline system.  \n",
    "4. Determine if a **social media post contains a trending hashtag**.  \n",
    "5. Confirm if a **shipment tracking ID is active**.  \n",
    "\n",
    "#### **Assume Data**:\n",
    "- Currency Codes: `\"USD INR EUR GBP JPY\"`  \n",
    "- Access Roles: `\"Admin Manager Editor Viewer\"`  \n",
    "- Airport Codes: `\"LAX JFK DXB HND\"`  \n",
    "- Trending Hashtags: `\"#Tech #AI #DataScience\"`  \n",
    "- Active Shipments: `\"TRK123 TRK456 TRK789\"`  \n",
    "\n",
    "---\n"
   ]
  },
  {
   "cell_type": "markdown",
   "metadata": {},
   "source": [
    "# Happy Learning"
   ]
  }
 ],
 "metadata": {
  "kernelspec": {
   "display_name": "base",
   "language": "python",
   "name": "python3"
  },
  "language_info": {
   "codemirror_mode": {
    "name": "ipython",
    "version": 3
   },
   "file_extension": ".py",
   "mimetype": "text/x-python",
   "name": "python",
   "nbconvert_exporter": "python",
   "pygments_lexer": "ipython3",
   "version": "3.11.7"
  }
 },
 "nbformat": 4,
 "nbformat_minor": 2
}
